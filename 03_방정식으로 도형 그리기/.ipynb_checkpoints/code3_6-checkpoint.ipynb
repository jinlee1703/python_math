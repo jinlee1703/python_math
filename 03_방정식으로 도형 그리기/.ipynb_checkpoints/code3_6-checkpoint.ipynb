{
 "cells": [
  {
   "cell_type": "code",
   "execution_count": 1,
   "id": "51e36f69",
   "metadata": {},
   "outputs": [
    {
     "data": {
      "image/png": "[encoded data removed]",
      "text/plain": [
       "<Figure size 432x288 with 1 Axes>"
      ]
     },
     "metadata": {
      "needs_background": "light"
     },
     "output_type": "display_data"
    }
   ],
   "source": [
    "%matplotlib inline\n",
    "import matplotlib.pyplot as plt\n",
    "import numpy as np\n",
    "\n",
    "# 기본이 되는 선분의 기울기와 절편\n",
    "a1 = (5-1) / 6-0\n",
    "b1 = 1\n",
    "\n",
    "# 선분의 중점\n",
    "cx = (0 + 6) / 2\n",
    "cy = (1 + 5) / 2\n",
    "\n",
    "# 선분에 직교하는 직선의 기울기(a2 = -1 / a1)\n",
    "a2 = -1 / a1\n",
    "\n",
    "# 선분에 직교하는 직선의 절편(b2 = y - a2 * x)\n",
    "b2 = cy - a2 * cx\n",
    "\n",
    "# 직선의 식\n",
    "x = np.arange(0, 7)     # x값\n",
    "y1 = a1 * x + b1        # 기본직선\n",
    "y2 = a2 * x + b2        # 수직이등분선\n",
    "\n",
    "# 그린다\n",
    "plt.plot(x, y1)\n",
    "plt.plot(x, y2)\n",
    "plt.axis('equal')\n",
    "plt.grid(color='0.8')\n",
    "plt.show()"
   ]
  }
 ],
 "metadata": {
  "kernelspec": {
   "display_name": "Python 3",
   "language": "python",
   "name": "python3"
  },
  "language_info": {
   "codemirror_mode": {
    "name": "ipython",
    "version": 3
   },
   "file_extension": ".py",
   "mimetype": "text/x-python",
   "name": "python",
   "nbconvert_exporter": "python",
   "pygments_lexer": "ipython3",
   "version": "3.8.8"
  }
 },
 "nbformat": 4,
 "nbformat_minor": 5
}
