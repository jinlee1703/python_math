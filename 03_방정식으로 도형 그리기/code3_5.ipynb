{
 "cells": [
  {
   "cell_type": "code",
   "execution_count": 3,
   "id": "697132b8",
   "metadata": {},
   "outputs": [
    {
     "data": {
      "image/png": "[encoded data removed]",
      "text/plain": [
       "<Figure size 432x288 with 1 Axes>"
      ]
     },
     "metadata": {
      "needs_background": "light"
     },
     "output_type": "display_data"
    }
   ],
   "source": [
    "%matplotlib inline\n",
    "import matplotlib.pyplot as plt\n",
    "import numpy as np\n",
    "\n",
    "x = np.arange(-1, 6)     # x값\n",
    "y = 1/2 * x + 1/2        # 직선1\n",
    "y2 = -2 * x + 7          # 직선1에 직교하는 직선\n",
    "\n",
    "# 그래프를 그린다\n",
    "plt.plot(x, y)\n",
    "plt.plot(x, y2)\n",
    "plt.axis('equal')\n",
    "plt.grid(color='0.8')\n",
    "plt.show()"
   ]
  },
  {
   "cell_type": "code",
   "execution_count": 4,
   "id": "f62f2185",
   "metadata": {},
   "outputs": [
    {
     "name": "stdout",
     "output_type": "stream",
     "text": [
      "{x: 2.00000000000000, y: 3.00000000000000}\n"
     ]
    }
   ],
   "source": [
    "from sympy import Symbol, solve\n",
    "x = Symbol('x')\n",
    "y = Symbol('y')\n",
    "ex1 = -3/2*x + 6 - y\n",
    "ex2 = 1/2*x + 2 - y\n",
    "print(solve((ex1, ex2)))"
   ]
  }
 ],
 "metadata": {
  "kernelspec": {
   "display_name": "Python 3",
   "language": "python",
   "name": "python3"
  },
  "language_info": {
   "codemirror_mode": {
    "name": "ipython",
    "version": 3
   },
   "file_extension": ".py",
   "mimetype": "text/x-python",
   "name": "python",
   "nbconvert_exporter": "python",
   "pygments_lexer": "ipython3",
   "version": "3.8.8"
  }
 },
 "nbformat": 4,
 "nbformat_minor": 5
}
