{
 "cells": [
  {
   "cell_type": "code",
   "execution_count": 2,
   "id": "26002b8e",
   "metadata": {},
   "outputs": [
    {
     "name": "stdout",
     "output_type": "stream",
     "text": [
      "{a: 1/2, b: 1/2}\n"
     ]
    }
   ],
   "source": [
    "from sympy import Symbol, solve     # sympy : 기호 계산을 위한 라이브러리\n",
    "\n",
    "# 식을 정의\n",
    "a = Symbol('a')       # 식에 사용되는 문자를 정의\n",
    "b = Symbol('b')\n",
    "ex1 = a + b - 1       # 각 식을 정의\n",
    "ex2 = 5 * a + b - 3\n",
    "\n",
    "# 연립방정식 풀기 : 튜플 형태로 solve() 함수에 넘겨주어 연립방정식의 해를 구함\n",
    "print(solve((ex1, ex2)))"
   ]
  }
 ],
 "metadata": {
  "kernelspec": {
   "display_name": "Python 3",
   "language": "python",
   "name": "python3"
  },
  "language_info": {
   "codemirror_mode": {
    "name": "ipython",
    "version": 3
   },
   "file_extension": ".py",
   "mimetype": "text/x-python",
   "name": "python",
   "nbconvert_exporter": "python",
   "pygments_lexer": "ipython3",
   "version": "3.8.8"
  }
 },
 "nbformat": 4,
 "nbformat_minor": 5
}
