{
 "cells": [
  {
   "cell_type": "code",
   "execution_count": 1,
   "id": "58fc2050",
   "metadata": {},
   "outputs": [
    {
     "data": {
      "text/plain": [
       "1000"
      ]
     },
     "execution_count": 1,
     "metadata": {},
     "output_type": "execute_result"
    }
   ],
   "source": [
    "10**3"
   ]
  },
  {
   "cell_type": "code",
   "execution_count": 3,
   "id": "c91c5a3f",
   "metadata": {},
   "outputs": [
    {
     "data": {
      "text/plain": [
       "1"
      ]
     },
     "execution_count": 3,
     "metadata": {},
     "output_type": "execute_result"
    }
   ],
   "source": [
    "10**0"
   ]
  },
  {
   "cell_type": "code",
   "execution_count": 6,
   "id": "561662af",
   "metadata": {},
   "outputs": [
    {
     "data": {
      "text/plain": [
       "1"
      ]
     },
     "execution_count": 6,
     "metadata": {},
     "output_type": "execute_result"
    }
   ],
   "source": [
    "2**0"
   ]
  },
  {
   "cell_type": "code",
   "execution_count": 9,
   "id": "bac0454e",
   "metadata": {},
   "outputs": [
    {
     "data": {
      "text/plain": [
       "'0b1010'"
      ]
     },
     "execution_count": 9,
     "metadata": {},
     "output_type": "execute_result"
    }
   ],
   "source": [
    "bin(10)"
   ]
  },
  {
   "cell_type": "code",
   "execution_count": 11,
   "id": "ca506369",
   "metadata": {},
   "outputs": [
    {
     "data": {
      "text/plain": [
       "'0x1c'"
      ]
     },
     "execution_count": 11,
     "metadata": {},
     "output_type": "execute_result"
    }
   ],
   "source": [
    "hex(28)"
   ]
  },
  {
   "cell_type": "code",
   "execution_count": 12,
   "id": "33313812",
   "metadata": {},
   "outputs": [
    {
     "data": {
      "text/plain": [
       "'0x1a'"
      ]
     },
     "execution_count": 12,
     "metadata": {},
     "output_type": "execute_result"
    }
   ],
   "source": [
    "hex(0b11010)"
   ]
  },
  {
   "cell_type": "code",
   "execution_count": 16,
   "id": "ad69c1c1",
   "metadata": {},
   "outputs": [
    {
     "data": {
      "text/plain": [
       "'0b11010'"
      ]
     },
     "execution_count": 16,
     "metadata": {},
     "output_type": "execute_result"
    }
   ],
   "source": [
    "def dec2bin(target):\n",
    "    remainder = []\n",
    "    \n",
    "    while target != 0:\n",
    "        remainder.append(target % 2)     # 나머지\n",
    "        target = target // 2             # 몫\n",
    "        \n",
    "    # 리스트에 있는 모든 요소를 역순으로 바꿔서 반환한다\n",
    "    remainder.reverse()\n",
    "    return remainder\n",
    "\n",
    "dec2bin(26)"
   ]
  },
  {
   "cell_type": "code",
   "execution_count": 18,
   "id": "bbcce917",
   "metadata": {},
   "outputs": [
    {
     "data": {
      "text/plain": [
       "'0b11010'"
      ]
     },
     "execution_count": 18,
     "metadata": {},
     "output_type": "execute_result"
    }
   ],
   "source": [
    "bin(26)"
   ]
  },
  {
   "cell_type": "code",
   "execution_count": 19,
   "id": "bbc086b9",
   "metadata": {},
   "outputs": [
    {
     "data": {
      "text/plain": [
       "[1, 'A']"
      ]
     },
     "execution_count": 19,
     "metadata": {},
     "output_type": "execute_result"
    }
   ],
   "source": [
    "def dec2hex(target):\n",
    "    remainder = [] # 나머지를 넣을 리스트\n",
    "    \n",
    "    # 나머지의 몫이 0이 될 때까지\n",
    "    while target != 0:\n",
    "        remainder.append(target % 16) # 나머지\n",
    "        target = target // 16 # 몫\n",
    "    \n",
    "    # 나머지 10~15를 A~F로 변환한다\n",
    "    for i in range(len(remainder)):\n",
    "        if remainder[i] == 10:\n",
    "            remainder[i] = 'A'\n",
    "        elif remainder[i] == 11:\n",
    "            remainder[i] = 'B'\n",
    "        elif remainder[i] == 12:\n",
    "            remainder[i] = 'C'\n",
    "        elif remainder[i] == 13:\n",
    "            remainder[i] = 'D'\n",
    "        elif remainder[i] == 14:\n",
    "            remainder[i] = 'E'\n",
    "        elif remainder[i] == 15:\n",
    "            remainder[i] = 'F'\n",
    "    \n",
    "    # 리스트에 있는 요소를 역순으로 반환한다\n",
    "    remainder.reverse()\n",
    "    return remainder\n",
    "\n",
    "dec2hex(26)"
   ]
  },
  {
   "cell_type": "code",
   "execution_count": 21,
   "id": "97f05b24",
   "metadata": {},
   "outputs": [
    {
     "data": {
      "text/plain": [
       "'0x1a'"
      ]
     },
     "execution_count": 21,
     "metadata": {},
     "output_type": "execute_result"
    }
   ],
   "source": [
    "hex(26)"
   ]
  },
  {
   "cell_type": "code",
   "execution_count": 23,
   "id": "2cdd60da",
   "metadata": {},
   "outputs": [
    {
     "data": {
      "text/plain": [
       "26"
      ]
     },
     "execution_count": 23,
     "metadata": {},
     "output_type": "execute_result"
    }
   ],
   "source": [
    "int('0b11010', 2)"
   ]
  },
  {
   "cell_type": "code",
   "execution_count": 25,
   "id": "e17af324",
   "metadata": {},
   "outputs": [
    {
     "data": {
      "text/plain": [
       "26"
      ]
     },
     "execution_count": 25,
     "metadata": {},
     "output_type": "execute_result"
    }
   ],
   "source": [
    "int('0x1A', 16)"
   ]
  },
  {
   "cell_type": "code",
   "execution_count": 27,
   "id": "e8f09fb6",
   "metadata": {},
   "outputs": [
    {
     "data": {
      "text/plain": [
       "26"
      ]
     },
     "execution_count": 27,
     "metadata": {},
     "output_type": "execute_result"
    }
   ],
   "source": [
    "def any2dex(target, m):\n",
    "    n = len(target) - 1 # 지수 최댓값\n",
    "    sum = 0             # 10진수로 변환한 값\n",
    "    \n",
    "    # 문자 수 만큼 반복한다\n",
    "    for i in range(len(target)):\n",
    "        if target[i] == 'A':\n",
    "            num = 10\n",
    "        elif target[i] == 'B':\n",
    "            num = 11\n",
    "        elif target[i] == 'C':\n",
    "            num = 12\n",
    "        elif target[i] == 'D':\n",
    "            num = 13\n",
    "        elif target[i] == 'E':\n",
    "            num = 14\n",
    "        elif target[i] == 'F':\n",
    "            num = 15\n",
    "        else:\n",
    "            num = int(target[i])\n",
    "        \n",
    "        sum += (m ** n) * num # \"m의 n승 x 각 행의 값\"의 합계를 구한다\n",
    "        n -= 1 # 무게를 한 개 줄인다\n",
    "    return sum\n",
    "\n",
    "any2dex('11010', 2)"
   ]
  },
  {
   "cell_type": "code",
   "execution_count": 29,
   "id": "c55b64c9",
   "metadata": {},
   "outputs": [
    {
     "data": {
      "text/plain": [
       "26"
      ]
     },
     "execution_count": 29,
     "metadata": {},
     "output_type": "execute_result"
    }
   ],
   "source": [
    "def any2dex(target, m):\n",
    "    n = len(target) - 1 # 지수 최댓값\n",
    "    sum = 0             # 10진수로 변환한 값\n",
    "    \n",
    "    # 문자 수 만큼 반복한다\n",
    "    for i in range(len(target)):\n",
    "        if target[i] == 'A':\n",
    "            num = 10\n",
    "        elif target[i] == 'B':\n",
    "            num = 11\n",
    "        elif target[i] == 'C':\n",
    "            num = 12\n",
    "        elif target[i] == 'D':\n",
    "            num = 13\n",
    "        elif target[i] == 'E':\n",
    "            num = 14\n",
    "        elif target[i] == 'F':\n",
    "            num = 15\n",
    "        else:\n",
    "            num = int(target[i])\n",
    "        \n",
    "        sum += (m ** n) * num # \"m의 n승 x 각 행의 값\"의 합계를 구한다\n",
    "        n -= 1 # 무게를 한 개 줄인다\n",
    "    return sum\n",
    "any2dex('1A', 16)"
   ]
  },
  {
   "cell_type": "code",
   "execution_count": 30,
   "id": "42985b6b",
   "metadata": {},
   "outputs": [
    {
     "data": {
      "text/plain": [
       "100"
      ]
     },
     "execution_count": 30,
     "metadata": {},
     "output_type": "execute_result"
    }
   ],
   "source": [
    "a = 100\n",
    "a"
   ]
  },
  {
   "cell_type": "code",
   "execution_count": 31,
   "id": "cd8ca175",
   "metadata": {},
   "outputs": [
    {
     "data": {
      "text/plain": [
       "int"
      ]
     },
     "execution_count": 31,
     "metadata": {},
     "output_type": "execute_result"
    }
   ],
   "source": [
    "type(a)"
   ]
  },
  {
   "cell_type": "code",
   "execution_count": 32,
   "id": "8bb77f49",
   "metadata": {},
   "outputs": [],
   "source": [
    "a = -100"
   ]
  },
  {
   "cell_type": "code",
   "execution_count": 33,
   "id": "126fb0b6",
   "metadata": {},
   "outputs": [
    {
     "data": {
      "text/plain": [
       "-100"
      ]
     },
     "execution_count": 33,
     "metadata": {},
     "output_type": "execute_result"
    }
   ],
   "source": [
    "a"
   ]
  },
  {
   "cell_type": "code",
   "execution_count": 34,
   "id": "94f72d4c",
   "metadata": {},
   "outputs": [
    {
     "data": {
      "text/plain": [
       "'-0b1010'"
      ]
     },
     "execution_count": 34,
     "metadata": {},
     "output_type": "execute_result"
    }
   ],
   "source": [
    "bin(-10)"
   ]
  },
  {
   "cell_type": "code",
   "execution_count": 36,
   "id": "780a07bf",
   "metadata": {},
   "outputs": [
    {
     "data": {
      "text/plain": [
       "'0b11110110'"
      ]
     },
     "execution_count": 36,
     "metadata": {},
     "output_type": "execute_result"
    }
   ],
   "source": [
    "bin(-10 & 0xFF)"
   ]
  },
  {
   "cell_type": "code",
   "execution_count": 38,
   "id": "8b3a5427",
   "metadata": {},
   "outputs": [
    {
     "data": {
      "text/plain": [
       "([1, 0, 1, 0], [1, 0, 1])"
      ]
     },
     "execution_count": 38,
     "metadata": {},
     "output_type": "execute_result"
    }
   ],
   "source": [
    "def dec2bin_ex(target):\n",
    "    # target을 정수부와 소수부로 구분한다\n",
    "    i = int(target) # 정수부\n",
    "    f = target - i  # 소수부\n",
    "    \n",
    "    # 정수부를 2진수로 변환\n",
    "    a = [] # 나머지를 넣을 리스트\n",
    "    \n",
    "    # 나눗셈의 몫이 0이 될 때까지\n",
    "    while i != 0:\n",
    "        a.append(i % 2)  # 나머지\n",
    "        i = i // 2       # 몫\n",
    "        \n",
    "    # 요소를 역순으로 바꾼다\n",
    "    a.reverse()\n",
    "    \n",
    "    # 소수부를 2진수로 변환\n",
    "    b = []  # 정수부를 넣을 리스트\n",
    "    n = 0   # 반복한 횟수\n",
    "    \n",
    "    # 2를 곱한 후에 얻어진 소수부가 0이 될 때까지\n",
    "    while (f != 0):\n",
    "        temp = f * 2          # 소수부 x 2\n",
    "        b.append(int(temp))   # 정수부\n",
    "        f = temp - int(temp)  # 소수부\n",
    "        n += 1\n",
    "        if (n >= 10):\n",
    "            break\n",
    "            \n",
    "    # 2진수로 변환한 값\n",
    "    return a, b\n",
    "\n",
    "dec2bin_ex(10.625)"
   ]
  }
 ],
 "metadata": {
  "kernelspec": {
   "display_name": "Python 3",
   "language": "python",
   "name": "python3"
  },
  "language_info": {
   "codemirror_mode": {
    "name": "ipython",
    "version": 3
   },
   "file_extension": ".py",
   "mimetype": "text/x-python",
   "name": "python",
   "nbconvert_exporter": "python",
   "pygments_lexer": "ipython3",
   "version": "3.8.8"
  }
 },
 "nbformat": 4,
 "nbformat_minor": 5
}
