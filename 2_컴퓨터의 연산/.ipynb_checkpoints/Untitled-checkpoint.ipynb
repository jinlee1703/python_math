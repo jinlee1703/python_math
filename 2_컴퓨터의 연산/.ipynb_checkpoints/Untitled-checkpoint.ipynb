{
 "cells": [
  {
   "cell_type": "code",
   "execution_count": 1,
   "id": "ee40da87",
   "metadata": {},
   "outputs": [
    {
     "data": {
      "text/plain": [
       "3.3333333333333335"
      ]
     },
     "execution_count": 1,
     "metadata": {},
     "output_type": "execute_result"
    }
   ],
   "source": [
    "10 / 3"
   ]
  },
  {
   "cell_type": "code",
   "execution_count": 2,
   "id": "c9b30a79",
   "metadata": {},
   "outputs": [
    {
     "data": {
      "text/plain": [
       "3"
      ]
     },
     "execution_count": 2,
     "metadata": {},
     "output_type": "execute_result"
    }
   ],
   "source": [
    "10 // 3"
   ]
  },
  {
   "cell_type": "code",
   "execution_count": 3,
   "id": "85e8cef7",
   "metadata": {},
   "outputs": [
    {
     "data": {
      "text/plain": [
       "1"
      ]
     },
     "execution_count": 3,
     "metadata": {},
     "output_type": "execute_result"
    }
   ],
   "source": [
    "10 % 3"
   ]
  },
  {
   "cell_type": "code",
   "execution_count": 4,
   "id": "1d53faa0",
   "metadata": {},
   "outputs": [
    {
     "data": {
      "text/plain": [
       "1000"
      ]
     },
     "execution_count": 4,
     "metadata": {},
     "output_type": "execute_result"
    }
   ],
   "source": [
    "10*10*10"
   ]
  },
  {
   "cell_type": "code",
   "execution_count": 5,
   "id": "62a9b253",
   "metadata": {},
   "outputs": [
    {
     "data": {
      "text/plain": [
       "1000"
      ]
     },
     "execution_count": 5,
     "metadata": {},
     "output_type": "execute_result"
    }
   ],
   "source": [
    "10**3"
   ]
  },
  {
   "cell_type": "code",
   "execution_count": 7,
   "id": "1d394855",
   "metadata": {},
   "outputs": [
    {
     "data": {
      "text/plain": [
       "7"
      ]
     },
     "execution_count": 7,
     "metadata": {},
     "output_type": "execute_result"
    }
   ],
   "source": [
    "a = 10 - 3\n",
    "a"
   ]
  },
  {
   "cell_type": "code",
   "execution_count": 8,
   "id": "9100e481",
   "metadata": {},
   "outputs": [
    {
     "data": {
      "text/plain": [
       "2"
      ]
     },
     "execution_count": 8,
     "metadata": {},
     "output_type": "execute_result"
    }
   ],
   "source": [
    "a = 1\n",
    "a = a + 1\n",
    "a"
   ]
  },
  {
   "cell_type": "code",
   "execution_count": 9,
   "id": "3bb0c10e",
   "metadata": {},
   "outputs": [
    {
     "data": {
      "text/plain": [
       "2"
      ]
     },
     "execution_count": 9,
     "metadata": {},
     "output_type": "execute_result"
    }
   ],
   "source": [
    "a = 1\n",
    "a += 1\n",
    "a"
   ]
  },
  {
   "cell_type": "code",
   "execution_count": 10,
   "id": "1333b126",
   "metadata": {},
   "outputs": [
    {
     "data": {
      "text/plain": [
       "17"
      ]
     },
     "execution_count": 10,
     "metadata": {},
     "output_type": "execute_result"
    }
   ],
   "source": [
    "3 + 2 * 7"
   ]
  },
  {
   "cell_type": "code",
   "execution_count": 11,
   "id": "67cff5c9",
   "metadata": {},
   "outputs": [
    {
     "data": {
      "text/plain": [
       "35"
      ]
     },
     "execution_count": 11,
     "metadata": {},
     "output_type": "execute_result"
    }
   ],
   "source": [
    "(3 + 2) * 7"
   ]
  },
  {
   "cell_type": "code",
   "execution_count": 12,
   "id": "eb51e7cf",
   "metadata": {},
   "outputs": [
    {
     "data": {
      "text/plain": [
       "350"
      ]
     },
     "execution_count": 12,
     "metadata": {},
     "output_type": "execute_result"
    }
   ],
   "source": [
    "10 * ((3 + 2) * 7)"
   ]
  },
  {
   "cell_type": "code",
   "execution_count": 14,
   "id": "ccde6d6d",
   "metadata": {},
   "outputs": [
    {
     "data": {
      "text/plain": [
       "18"
      ]
     },
     "execution_count": 14,
     "metadata": {},
     "output_type": "execute_result"
    }
   ],
   "source": [
    "2 * 3 + 3 * 4"
   ]
  },
  {
   "cell_type": "code",
   "execution_count": 15,
   "id": "5d050c8d",
   "metadata": {},
   "outputs": [
    {
     "data": {
      "text/plain": [
       "18"
      ]
     },
     "execution_count": 15,
     "metadata": {},
     "output_type": "execute_result"
    }
   ],
   "source": [
    "(2 * 3) + (3 * 4)"
   ]
  },
  {
   "cell_type": "code",
   "execution_count": 16,
   "id": "18d1e552",
   "metadata": {},
   "outputs": [
    {
     "data": {
      "text/plain": [
       "0.9999999999999999"
      ]
     },
     "execution_count": 16,
     "metadata": {},
     "output_type": "execute_result"
    }
   ],
   "source": [
    "a = 0\n",
    "for i in range(10):\n",
    "    a += 0.1\n",
    "a"
   ]
  },
  {
   "cell_type": "code",
   "execution_count": 17,
   "id": "c634376b",
   "metadata": {},
   "outputs": [
    {
     "data": {
      "text/plain": [
       "1.0"
      ]
     },
     "execution_count": 17,
     "metadata": {},
     "output_type": "execute_result"
    }
   ],
   "source": [
    "a = 0\n",
    "b = 0.1 * 10\n",
    "for i in range(10):\n",
    "    a += b\n",
    "a = a / 10\n",
    "a"
   ]
  },
  {
   "cell_type": "code",
   "execution_count": 19,
   "id": "508e9d85",
   "metadata": {},
   "outputs": [
    {
     "data": {
      "text/plain": [
       "24"
      ]
     },
     "execution_count": 19,
     "metadata": {},
     "output_type": "execute_result"
    }
   ],
   "source": [
    "12 << 1"
   ]
  },
  {
   "cell_type": "code",
   "execution_count": 20,
   "id": "e8b56d2a",
   "metadata": {},
   "outputs": [
    {
     "data": {
      "text/plain": [
       "48"
      ]
     },
     "execution_count": 20,
     "metadata": {},
     "output_type": "execute_result"
    }
   ],
   "source": [
    "12 << 2"
   ]
  },
  {
   "cell_type": "code",
   "execution_count": 21,
   "id": "6f554f09",
   "metadata": {},
   "outputs": [
    {
     "data": {
      "text/plain": [
       "6"
      ]
     },
     "execution_count": 21,
     "metadata": {},
     "output_type": "execute_result"
    }
   ],
   "source": [
    "12 >> 1"
   ]
  },
  {
   "cell_type": "code",
   "execution_count": 22,
   "id": "067ab0af",
   "metadata": {},
   "outputs": [
    {
     "data": {
      "text/plain": [
       "3"
      ]
     },
     "execution_count": 22,
     "metadata": {},
     "output_type": "execute_result"
    }
   ],
   "source": [
    "12 >> 2"
   ]
  },
  {
   "cell_type": "code",
   "execution_count": 25,
   "id": "668beace",
   "metadata": {},
   "outputs": [
    {
     "data": {
      "text/plain": [
       "2"
      ]
     },
     "execution_count": 25,
     "metadata": {},
     "output_type": "execute_result"
    }
   ],
   "source": [
    "9 >> 2"
   ]
  },
  {
   "cell_type": "code",
   "execution_count": 26,
   "id": "ef5e9941",
   "metadata": {},
   "outputs": [
    {
     "data": {
      "text/plain": [
       "2.25"
      ]
     },
     "execution_count": 26,
     "metadata": {},
     "output_type": "execute_result"
    }
   ],
   "source": [
    "9 / 4"
   ]
  },
  {
   "cell_type": "code",
   "execution_count": 27,
   "id": "fb80a0f0",
   "metadata": {},
   "outputs": [
    {
     "data": {
      "text/plain": [
       "'0b11110100'"
      ]
     },
     "execution_count": 27,
     "metadata": {},
     "output_type": "execute_result"
    }
   ],
   "source": [
    "bin(-12 & 0xFF)"
   ]
  },
  {
   "cell_type": "code",
   "execution_count": 28,
   "id": "f96096b5",
   "metadata": {},
   "outputs": [
    {
     "data": {
      "text/plain": [
       "-3"
      ]
     },
     "execution_count": 28,
     "metadata": {},
     "output_type": "execute_result"
    }
   ],
   "source": [
    "-12 >> 2"
   ]
  },
  {
   "cell_type": "code",
   "execution_count": 29,
   "id": "65ac6a29",
   "metadata": {},
   "outputs": [
    {
     "data": {
      "text/plain": [
       "'0b11111101'"
      ]
     },
     "execution_count": 29,
     "metadata": {},
     "output_type": "execute_result"
    }
   ],
   "source": [
    "bin(-3 & 0xFF)"
   ]
  },
  {
   "cell_type": "code",
   "execution_count": 30,
   "id": "93b4a05c",
   "metadata": {},
   "outputs": [
    {
     "data": {
      "text/plain": [
       "1"
      ]
     },
     "execution_count": 30,
     "metadata": {},
     "output_type": "execute_result"
    }
   ],
   "source": [
    "1 & 1"
   ]
  },
  {
   "cell_type": "code",
   "execution_count": 31,
   "id": "74a9628b",
   "metadata": {},
   "outputs": [
    {
     "data": {
      "text/plain": [
       "1"
      ]
     },
     "execution_count": 31,
     "metadata": {},
     "output_type": "execute_result"
    }
   ],
   "source": [
    "1 | 1"
   ]
  },
  {
   "cell_type": "code",
   "execution_count": 32,
   "id": "facb10ab",
   "metadata": {},
   "outputs": [
    {
     "data": {
      "text/plain": [
       "0"
      ]
     },
     "execution_count": 32,
     "metadata": {},
     "output_type": "execute_result"
    }
   ],
   "source": [
    "1 ^ 1"
   ]
  },
  {
   "cell_type": "code",
   "execution_count": 33,
   "id": "0a3250b5",
   "metadata": {},
   "outputs": [
    {
     "data": {
      "text/plain": [
       "-2"
      ]
     },
     "execution_count": 33,
     "metadata": {},
     "output_type": "execute_result"
    }
   ],
   "source": [
    "~1"
   ]
  },
  {
   "cell_type": "code",
   "execution_count": 34,
   "id": "faa190a9",
   "metadata": {},
   "outputs": [
    {
     "data": {
      "text/plain": [
       "'0b1010'"
      ]
     },
     "execution_count": 34,
     "metadata": {},
     "output_type": "execute_result"
    }
   ],
   "source": [
    "bin(0b10101010 & 0b00001111)"
   ]
  },
  {
   "cell_type": "code",
   "execution_count": 35,
   "id": "1f10514e",
   "metadata": {},
   "outputs": [
    {
     "data": {
      "text/plain": [
       "'0b10101111'"
      ]
     },
     "execution_count": 35,
     "metadata": {},
     "output_type": "execute_result"
    }
   ],
   "source": [
    "bin(0b10101010 | 0b00001111)"
   ]
  },
  {
   "cell_type": "code",
   "execution_count": 36,
   "id": "634ecd3a",
   "metadata": {},
   "outputs": [
    {
     "data": {
      "text/plain": [
       "'0b10100101'"
      ]
     },
     "execution_count": 36,
     "metadata": {},
     "output_type": "execute_result"
    }
   ],
   "source": [
    "bin(0b10101010 ^ 0b00001111)"
   ]
  },
  {
   "cell_type": "code",
   "execution_count": 38,
   "id": "4b10896b",
   "metadata": {},
   "outputs": [
    {
     "data": {
      "text/plain": [
       "-2"
      ]
     },
     "execution_count": 38,
     "metadata": {},
     "output_type": "execute_result"
    }
   ],
   "source": [
    "~1"
   ]
  },
  {
   "cell_type": "code",
   "execution_count": 39,
   "id": "fb94f68b",
   "metadata": {},
   "outputs": [
    {
     "data": {
      "text/plain": [
       "10"
      ]
     },
     "execution_count": 39,
     "metadata": {},
     "output_type": "execute_result"
    }
   ],
   "source": [
    "170 & 15"
   ]
  },
  {
   "cell_type": "code",
   "execution_count": 40,
   "id": "ecdea326",
   "metadata": {},
   "outputs": [
    {
     "data": {
      "text/plain": [
       "-10"
      ]
     },
     "execution_count": 40,
     "metadata": {},
     "output_type": "execute_result"
    }
   ],
   "source": [
    "~10 + 1 # 10진수 10의 모든 비트를 반전(NOT 연산)하고 1을 더한다 :: 2의 보수"
   ]
  },
  {
   "cell_type": "code",
   "execution_count": 41,
   "id": "19474e3c",
   "metadata": {},
   "outputs": [
    {
     "data": {
      "text/plain": [
       "'-0b1010'"
      ]
     },
     "execution_count": 41,
     "metadata": {},
     "output_type": "execute_result"
    }
   ],
   "source": [
    "bin(-10)"
   ]
  },
  {
   "cell_type": "code",
   "execution_count": 42,
   "id": "7817085b",
   "metadata": {},
   "outputs": [
    {
     "data": {
      "text/plain": [
       "'0b11110110'"
      ]
     },
     "execution_count": 42,
     "metadata": {},
     "output_type": "execute_result"
    }
   ],
   "source": [
    "bin(-10 & 0b11111111)"
   ]
  },
  {
   "cell_type": "code",
   "execution_count": 43,
   "id": "9fcea6f4",
   "metadata": {},
   "outputs": [
    {
     "data": {
      "text/plain": [
       "'0b11110110'"
      ]
     },
     "execution_count": 43,
     "metadata": {},
     "output_type": "execute_result"
    }
   ],
   "source": [
    "bin(-10 & 0xFF)"
   ]
  },
  {
   "cell_type": "code",
   "execution_count": 46,
   "id": "eaa33639",
   "metadata": {},
   "outputs": [
    {
     "name": "stdout",
     "output_type": "stream",
     "text": [
      "135 206 250\n"
     ]
    }
   ],
   "source": [
    "# 마스크를 씌워서 각 색상 코드를 분해하기\n",
    "def get_pixel_color(c):\n",
    "    r = (c & 0x00FF0000) >> 16  # R(빨강)\n",
    "    g = (c & 0x0000FF00) >> 8   # G(초록)\n",
    "    b = (c & 0x000000FF)        # B(파랑)\n",
    "    return r, g, b\n",
    "    \n",
    "c = 4287090426\n",
    "r, g, b = get_pixel_color(c)\n",
    "print(r, g, b)"
   ]
  },
  {
   "cell_type": "code",
   "execution_count": 48,
   "id": "bfc8157f",
   "metadata": {},
   "outputs": [
    {
     "data": {
      "text/plain": [
       "0"
      ]
     },
     "execution_count": 48,
     "metadata": {},
     "output_type": "execute_result"
    }
   ],
   "source": [
    "# 플래그 다루기\n",
    "gildong_item = 0\n",
    "gildong_item = 0b0000  # 파이썬에서 상위 비트가 0으로 채워지므로 gildong_item = 0b0과 동일\n",
    "gildong_item"
   ]
  },
  {
   "cell_type": "code",
   "execution_count": 54,
   "id": "d7c75457",
   "metadata": {},
   "outputs": [
    {
     "data": {
      "text/plain": [
       "1"
      ]
     },
     "execution_count": 54,
     "metadata": {},
     "output_type": "execute_result"
    }
   ],
   "source": [
    "gildong_item = 0\n",
    "gildong_item = 0b0001\n",
    "gildong_item"
   ]
  },
  {
   "cell_type": "code",
   "execution_count": 53,
   "id": "beef2039",
   "metadata": {},
   "outputs": [
    {
     "data": {
      "text/plain": [
       "9"
      ]
     },
     "execution_count": 53,
     "metadata": {},
     "output_type": "execute_result"
    }
   ],
   "source": [
    "gildong_item = 0\n",
    "gildong_item = 0b0001\n",
    "gildong_item = gildong_item | 0b1000\n",
    "gildong_item"
   ]
  },
  {
   "cell_type": "code",
   "execution_count": 58,
   "id": "b734f7d5",
   "metadata": {},
   "outputs": [
    {
     "data": {
      "text/plain": [
       "8"
      ]
     },
     "execution_count": 58,
     "metadata": {},
     "output_type": "execute_result"
    }
   ],
   "source": [
    "# 플래그 판정 : 아이템이 있는 지 확인\n",
    "gildong_item = 0\n",
    "gildong_item = 0b0001\n",
    "gildong_item = gildong_item | 0b1000\n",
    "chk_candy = gildong_item & 0b1000\n",
    "chk_candy"
   ]
  },
  {
   "cell_type": "code",
   "execution_count": 60,
   "id": "113a63cd",
   "metadata": {},
   "outputs": [
    {
     "data": {
      "text/plain": [
       "1"
      ]
     },
     "execution_count": 60,
     "metadata": {},
     "output_type": "execute_result"
    }
   ],
   "source": [
    "# 플래그 해제 : 아이템 사용\n",
    "gildong_item = 0\n",
    "gildong_item = 0b0001\n",
    "gildong_item = gildong_item | 0b1000\n",
    "gildong_item = gildong_item & (~0b1000)\n",
    "gildong_item"
   ]
  },
  {
   "cell_type": "code",
   "execution_count": 62,
   "id": "4d4e2f46",
   "metadata": {},
   "outputs": [
    {
     "data": {
      "text/plain": [
       "5"
      ]
     },
     "execution_count": 62,
     "metadata": {},
     "output_type": "execute_result"
    }
   ],
   "source": [
    "gildong_item = 0\n",
    "gildong_item = 0b0001\n",
    "gildong_item = gildong_item | 4\n",
    "gildong_item"
   ]
  },
  {
   "cell_type": "code",
   "execution_count": 64,
   "id": "f9fefffd",
   "metadata": {},
   "outputs": [
    {
     "data": {
      "text/plain": [
       "True"
      ]
     },
     "execution_count": 64,
     "metadata": {},
     "output_type": "execute_result"
    }
   ],
   "source": [
    "10 > 5"
   ]
  },
  {
   "cell_type": "code",
   "execution_count": 66,
   "id": "b256a980",
   "metadata": {},
   "outputs": [
    {
     "data": {
      "text/plain": [
       "False"
      ]
     },
     "execution_count": 66,
     "metadata": {},
     "output_type": "execute_result"
    }
   ],
   "source": [
    "a = 5\n",
    "a < 5"
   ]
  },
  {
   "cell_type": "code",
   "execution_count": 67,
   "id": "5d27a872",
   "metadata": {},
   "outputs": [
    {
     "data": {
      "text/plain": [
       "True"
      ]
     },
     "execution_count": 67,
     "metadata": {},
     "output_type": "execute_result"
    }
   ],
   "source": [
    "a = 5\n",
    "a <= 5"
   ]
  },
  {
   "cell_type": "code",
   "execution_count": 70,
   "id": "4bf2f090",
   "metadata": {},
   "outputs": [
    {
     "name": "stdout",
     "output_type": "stream",
     "text": [
      "가지고 있다\n"
     ]
    }
   ],
   "source": [
    "def check_candy(item):\n",
    "    if (item & 0b1000) != 0:  # 사탕 플래그가 세팅돼 있는지 확인한다.\n",
    "        print('가지고 있다')\n",
    "    else:\n",
    "        print('가지고 있지 않다')\n",
    "\n",
    "gildong_item = 9\n",
    "check_candy(gildong_item)"
   ]
  },
  {
   "cell_type": "code",
   "execution_count": 73,
   "id": "c10d2803",
   "metadata": {},
   "outputs": [
    {
     "data": {
      "text/plain": [
       "'B'"
      ]
     },
     "execution_count": 73,
     "metadata": {},
     "output_type": "execute_result"
    }
   ],
   "source": [
    "def func_and(score):\n",
    "    if score >= 80:  # score가 80 이상\n",
    "        rank = 'A'\n",
    "    elif (score >= 60) and (score < 80):  # score가 60 ~ 79의 범위 안에 있다\n",
    "        rank = 'B'\n",
    "    elif (score >= 40) and (score < 60):  # score가 40 ~ 59의 범위 안에 있다\n",
    "        rank = 'C'\n",
    "    else:  # 위에 있는 어떤 범위에도 들지 않는다\n",
    "        rank = '추가시험'  # (score가 40 미만)\n",
    "    return rank\n",
    "\n",
    "rank = func_and(78)\n",
    "rank"
   ]
  },
  {
   "cell_type": "code",
   "execution_count": 77,
   "id": "e8f7c2ff",
   "metadata": {},
   "outputs": [
    {
     "name": "stdout",
     "output_type": "stream",
     "text": [
      "개를 좋아하십니까 (Y/N) ...n\n",
      "아니오\n"
     ]
    }
   ],
   "source": [
    "def func_or():\n",
    "    a = input('개를 좋아하십니까 (Y/N) ...') # 키 입력을 부탁하는 메시지를 표시한다\n",
    "    if (a == 'Y') or (a == 'y'):\n",
    "        print('예')\n",
    "    else:\n",
    "        print('아니오')\n",
    "func_or()"
   ]
  }
 ],
 "metadata": {
  "kernelspec": {
   "display_name": "Python 3",
   "language": "python",
   "name": "python3"
  },
  "language_info": {
   "codemirror_mode": {
    "name": "ipython",
    "version": 3
   },
   "file_extension": ".py",
   "mimetype": "text/x-python",
   "name": "python",
   "nbconvert_exporter": "python",
   "pygments_lexer": "ipython3",
   "version": "3.8.8"
  }
 },
 "nbformat": 4,
 "nbformat_minor": 5
}
